{
 "cells": [
  {
   "cell_type": "code",
   "execution_count": 10,
   "id": "4d27c7d8",
   "metadata": {},
   "outputs": [
    {
     "name": "stdout",
     "output_type": "stream",
     "text": [
      "cuda\n"
     ]
    }
   ],
   "source": [
    "import torch\n",
    "import torch.nn as nn\n",
    "import torch.optim as optim \n",
    "from torchvision import datasets, transforms \n",
    "from torchvision.utils import save_image, make_grid\n",
    "import os\n",
    "import matplotlib.pyplot as plt\n",
    "\n",
    "# device\n",
    "device = torch.device('cuda' if torch.cuda.is_available() else 'cpu')\n",
    "print(device)"
   ]
  },
  {
   "cell_type": "code",
   "execution_count": 11,
   "id": "7823cdb6",
   "metadata": {},
   "outputs": [],
   "source": [
    "batch_size = 128\n",
    "z_dim = 100 \n",
    "num_classes = 10\n",
    "image_size = 28\n",
    "channels = 1 \n",
    "epochs = 50 \n",
    "lr = 0.0002\n",
    "beta1 = 0.5\n",
    "\n",
    "os.makedirs('cgan_generated_images', exist_ok=True)"
   ]
  },
  {
   "cell_type": "code",
   "execution_count": 12,
   "id": "5c5e1e43",
   "metadata": {},
   "outputs": [],
   "source": [
    "transform = transforms.Compose([\n",
    "    transforms.Resize(image_size),\n",
    "    transforms.ToTensor(), \n",
    "    transforms.Normalize([0.5], [0.5])\n",
    "])\n",
    "\n",
    "train_loader = torch.utils.data.DataLoader(\n",
    "    datasets.MNIST('.', train=True, download=True, transform=transform),\n",
    "    batch_size= batch_size, shuffle=True\n",
    ")"
   ]
  },
  {
   "cell_type": "code",
   "execution_count": 23,
   "id": "a492f12d",
   "metadata": {},
   "outputs": [],
   "source": [
    "class Generator(nn.Module): \n",
    "    def __init__(self, z_dim, num_classes, img_shape): \n",
    "        super().__init__()\n",
    "        self.label_emb = nn.Embedding(num_classes, num_classes)\n",
    "        self.img_shape = img_shape\n",
    "        input_dim = z_dim + num_classes \n",
    "\n",
    "        self.model = nn.Sequential(\n",
    "            nn.Linear(input_dim, 256),\n",
    "            nn.BatchNorm1d(256), # for smaller networks --> can be avoided for deeper nn\n",
    "            nn.ReLU(True), \n",
    "\n",
    "            nn.Linear(256, 512), \n",
    "            nn.BatchNorm1d(512), \n",
    "            nn.ReLU(True), \n",
    "\n",
    "            nn.Linear(512, 1024), \n",
    "            nn.BatchNorm1d(1024), \n",
    "            nn.ReLU(True), \n",
    "\n",
    "            nn.Linear(1024, int(torch.prod(torch.tensor(img_shape)))), \n",
    "            nn.Tanh()\n",
    "        )\n",
    "\n",
    "    def forward(self, noise, labels): \n",
    "        x = torch.cat([noise, self.label_emb(labels)], dim=1)\n",
    "        img = self.model(x)\n",
    "        img = img.view(x.size(0), *self.img_shape)\n",
    "        return img"
   ]
  },
  {
   "cell_type": "code",
   "execution_count": 24,
   "id": "c4c928c8",
   "metadata": {},
   "outputs": [],
   "source": [
    "class Discriminator(nn.Module): \n",
    "    def __init__(self, num_classes, img_shape): \n",
    "        super().__init__()\n",
    "        self.label_emb = nn.Embedding(num_classes, num_classes)\n",
    "        input_dim = int(torch.prod(torch.tensor(img_shape))) + num_classes\n",
    "        \n",
    "        self.model = nn.Sequential(\n",
    "            nn.Linear(input_dim, 512),\n",
    "            nn.LeakyReLU(0.2, inplace=True), \n",
    "\n",
    "            nn.Linear(512, 256),  \n",
    "            nn.LeakyReLU(0.2, inplace=True), \n",
    "\n",
    "            nn.Linear(256, 1),\n",
    "            nn.Sigmoid()\n",
    "        )\n",
    "\n",
    "    def forward(self, img, labels): \n",
    "        img_flat = img.view(img.size(0), -1)\n",
    "        x = torch.cat([img_flat, self.label_emb(labels)], dim=1)\n",
    "        return self.model(x)"
   ]
  },
  {
   "cell_type": "code",
   "execution_count": 25,
   "id": "9e3b9898",
   "metadata": {},
   "outputs": [],
   "source": [
    "img_shape = (channels, image_size, image_size)\n",
    "\n",
    "generator = Generator(z_dim, num_classes, img_shape).to(device)\n",
    "discriminator = Discriminator(num_classes, img_shape).to(device)\n",
    "\n",
    "criterion = nn.BCELoss()\n",
    "\n",
    "optimizer_G = optim.Adam(generator.parameters(), lr = lr, betas = (beta1, 0.999))\n",
    "optimizer_D = optim.Adam(discriminator.parameters(), lr = lr, betas = (beta1, 0.999))"
   ]
  },
  {
   "cell_type": "code",
   "execution_count": null,
   "id": "6037cc60",
   "metadata": {},
   "outputs": [
    {
     "name": "stdout",
     "output_type": "stream",
     "text": [
      "[Epoch 1/1] [Batch 0/469]D Loss: 1.3781 | G Loss: 0.6357\n",
      "[Epoch 1/1] [Batch 200/469]D Loss: 0.2826 | G Loss: 2.3706\n",
      "[Epoch 1/1] [Batch 400/469]D Loss: 0.0029 | G Loss: 7.0090\n",
      "[Epoch 2/2] [Batch 0/469]D Loss: 3.7348 | G Loss: 2.0120\n",
      "[Epoch 2/2] [Batch 200/469]D Loss: 1.3512 | G Loss: 0.6483\n",
      "[Epoch 2/2] [Batch 400/469]D Loss: 1.3867 | G Loss: 0.6621\n",
      "[Epoch 3/3] [Batch 0/469]D Loss: 1.3872 | G Loss: 0.6745\n",
      "[Epoch 3/3] [Batch 200/469]D Loss: 1.3726 | G Loss: 0.6786\n",
      "[Epoch 3/3] [Batch 400/469]D Loss: 1.3758 | G Loss: 0.7344\n",
      "[Epoch 4/4] [Batch 0/469]D Loss: 1.3582 | G Loss: 0.7013\n",
      "[Epoch 4/4] [Batch 200/469]D Loss: 1.3823 | G Loss: 0.7081\n",
      "[Epoch 4/4] [Batch 400/469]D Loss: 1.3656 | G Loss: 0.7040\n",
      "[Epoch 5/5] [Batch 0/469]D Loss: 1.3605 | G Loss: 0.7073\n",
      "[Epoch 5/5] [Batch 200/469]D Loss: 1.3533 | G Loss: 0.7350\n",
      "[Epoch 5/5] [Batch 400/469]D Loss: 1.3806 | G Loss: 0.7210\n",
      "[Epoch 6/6] [Batch 0/469]D Loss: 1.3680 | G Loss: 0.7064\n",
      "[Epoch 6/6] [Batch 200/469]D Loss: 1.3796 | G Loss: 0.7132\n",
      "[Epoch 6/6] [Batch 400/469]D Loss: 1.3511 | G Loss: 0.7303\n",
      "[Epoch 7/7] [Batch 0/469]D Loss: 1.3968 | G Loss: 0.6836\n",
      "[Epoch 7/7] [Batch 200/469]D Loss: 1.3719 | G Loss: 0.7196\n",
      "[Epoch 7/7] [Batch 400/469]D Loss: 1.3667 | G Loss: 0.7102\n",
      "[Epoch 8/8] [Batch 0/469]D Loss: 1.3657 | G Loss: 0.7450\n",
      "[Epoch 8/8] [Batch 200/469]D Loss: 1.3899 | G Loss: 0.6943\n",
      "[Epoch 8/8] [Batch 400/469]D Loss: 1.3710 | G Loss: 0.7079\n",
      "[Epoch 9/9] [Batch 0/469]D Loss: 1.3765 | G Loss: 0.7225\n",
      "[Epoch 9/9] [Batch 200/469]D Loss: 1.3652 | G Loss: 0.7030\n",
      "[Epoch 9/9] [Batch 400/469]D Loss: 1.3545 | G Loss: 0.7384\n",
      "[Epoch 10/10] [Batch 0/469]D Loss: 1.3852 | G Loss: 0.7340\n",
      "[Epoch 10/10] [Batch 200/469]D Loss: 1.3648 | G Loss: 0.7583\n",
      "[Epoch 10/10] [Batch 400/469]D Loss: 1.3656 | G Loss: 0.7573\n",
      "[Epoch 11/11] [Batch 0/469]D Loss: 1.3512 | G Loss: 0.8136\n"
     ]
    }
   ],
   "source": [
    "k, p = 3, 1 \n",
    "k = 3 # genrator updates per iterations\n",
    "p =1 # discriminator updates per iterations\n",
    "# train generator more than discriminator \n",
    "for epoch in range(1, epochs+1) : \n",
    "    for i, (real_imgs, real_labels) in enumerate(train_loader) :\n",
    "        batch_size_curr = real_imgs.size(0)\n",
    "        real_imgs = real_imgs.to(device)\n",
    "        real_labels = real_labels.to(device)\n",
    "\n",
    "        real = torch.ones(batch_size_curr, 1, device=device)\n",
    "        fake = torch.zeros(batch_size_curr, 1, device=device)\n",
    "\n",
    "        for _ in range(p) : \n",
    "            z = torch.randn(batch_size_curr, z_dim, device=device)\n",
    "            fake_labels = torch.randint(0, num_classes, (batch_size_curr,), device=device)\n",
    "\n",
    "            with torch.no_grad(): \n",
    "                gen_imgs = generator(z, fake_labels)\n",
    "\n",
    "            real_validity = discriminator(real_imgs, real_labels)\n",
    "            d_real_loss = criterion(real_validity, real)\n",
    "\n",
    "            fake_validity = discriminator(gen_imgs.detach(), fake_labels)\n",
    "            d_fake_loss = criterion(fake_validity, fake)\n",
    "\n",
    "            d_loss = d_real_loss + d_fake_loss\n",
    "            optimizer_D.zero_grad()\n",
    "            d_loss.backward()\n",
    "            optimizer_D.step()\n",
    "        \n",
    "        for _ in range(k) : \n",
    "            z = torch.randn(batch_size_curr, z_dim, device=device)\n",
    "            gen_labels = torch.randint(0, num_classes, (batch_size_curr,), device=device)\n",
    "            gen_imgs = generator(z, gen_labels)\n",
    "            \n",
    "            validity = discriminator(gen_imgs, gen_labels)\n",
    "            g_loss = criterion(validity, real)\n",
    "\n",
    "            optimizer_G.zero_grad()\n",
    "            g_loss.backward()\n",
    "            optimizer_G.step()\n",
    "        \n",
    "        if i%200 == 0: \n",
    "            print(\n",
    "                f\"[Epoch {epoch}/{epoch}] [Batch {i}/{len(train_loader)}]\"\n",
    "                f\"D Loss: {d_loss.item():.4f} | G Loss: {g_loss.item():.4f}\"\n",
    "            )\n",
    "\n",
    "    generator.eval()\n",
    "    with torch.no_grad():\n",
    "        z = torch.randn(10, z_dim, device=device)\n",
    "        labels = torch.arange(0, 10, dtype=torch.long, device=device)\n",
    "        samples = generator(z, labels)\n",
    "        samples = samples*0.5 + 0.5\n",
    "        save_image(samples, f\"cgan_generated_images/epochs_{epoch}.png\", nrow=10)\n",
    "    generator.train()"
   ]
  },
  {
   "cell_type": "code",
   "execution_count": null,
   "id": "6a95f86d",
   "metadata": {},
   "outputs": [],
   "source": [
    "def generate_digit_images(generator, digit, num_samples = 16, save_path = None) : \n",
    "    generator.eval()\n",
    "    z = torch.randn(num_samples, z_dim).to(device=device)\n",
    "    labels = torch.full((num_samples,), digit, dtype=torch.long).to(device)\n",
    "\n",
    "    with torch.no_grad() : \n",
    "        gen_imgs = generator(z, labels)\n",
    "        gen_imgs = gen_imgs*0.5 + 0.5\n",
    "\n",
    "    if save_path : \n",
    "        save_image(gen_imgs, save_path, nrow=4)\n",
    "        print(f\"Saved to {save_path}\")\n",
    "\n",
    "    return gen_imgs"
   ]
  },
  {
   "cell_type": "code",
   "execution_count": null,
   "id": "362798a8",
   "metadata": {},
   "outputs": [],
   "source": [
    "generate_digit_images(generator, digit=7, num_samples=16, save_path='cgan_generated/seven.png')"
   ]
  },
  {
   "cell_type": "code",
   "execution_count": null,
   "id": "fef8ae4d",
   "metadata": {},
   "outputs": [],
   "source": []
  },
  {
   "cell_type": "code",
   "execution_count": null,
   "id": "fbcbec62",
   "metadata": {},
   "outputs": [],
   "source": []
  },
  {
   "cell_type": "code",
   "execution_count": null,
   "id": "8baf2b2d",
   "metadata": {},
   "outputs": [],
   "source": []
  }
 ],
 "metadata": {
  "kernelspec": {
   "display_name": ".venv",
   "language": "python",
   "name": "python3"
  },
  "language_info": {
   "codemirror_mode": {
    "name": "ipython",
    "version": 3
   },
   "file_extension": ".py",
   "mimetype": "text/x-python",
   "name": "python",
   "nbconvert_exporter": "python",
   "pygments_lexer": "ipython3",
   "version": "3.12.0"
  }
 },
 "nbformat": 4,
 "nbformat_minor": 5
}
