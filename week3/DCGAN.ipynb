{
 "cells": [
  {
   "cell_type": "code",
   "execution_count": 41,
   "id": "11bcdbbf",
   "metadata": {},
   "outputs": [
    {
     "name": "stdout",
     "output_type": "stream",
     "text": [
      "cuda\n"
     ]
    }
   ],
   "source": [
    "import torch\n",
    "import torch.nn as nn\n",
    "import torch.optim as optim \n",
    "from torchvision import datasets, transforms \n",
    "from torchvision.utils import save_image, make_grid\n",
    "import os\n",
    "import matplotlib.pyplot as plt\n",
    "\n",
    "# device\n",
    "device = torch.device('cuda' if torch.cuda.is_available() else 'cpu')\n",
    "print(device)"
   ]
  },
  {
   "cell_type": "markdown",
   "id": "789ea1ec",
   "metadata": {},
   "source": [
    "After applying conv the size reduces but in transpose conv the size increases. \n",
    "####  parameter\n",
    "* input_size = 7x7\n",
    "* kernel_szie = 4\n",
    "* stride = 2\n",
    "* padding(input) = 1\n",
    "* output padding --> padding on top of output = 1\n",
    "\n",
    "\n",
    "`Hout = (Hin - 1)*stride - 2*padding + kerner_size + output padding`\n",
    "\n",
    "`Hout = (7-1)*2-2*1+4+1 ==> 15`"
   ]
  },
  {
   "cell_type": "code",
   "execution_count": 42,
   "id": "795638d5",
   "metadata": {},
   "outputs": [],
   "source": [
    "batch_size = 128\n",
    "z_dim = 100 \n",
    "image_size = 28\n",
    "channels = 1 \n",
    "epochs = 10 \n",
    "lr = 0.0002\n",
    "beta1 = 0.5\n",
    "\n",
    "os.makedirs('generated_images', exist_ok=True)"
   ]
  },
  {
   "cell_type": "code",
   "execution_count": 43,
   "id": "a010e7a3",
   "metadata": {},
   "outputs": [],
   "source": [
    "transform = transforms.Compose([\n",
    "    transforms.Resize(image_size),\n",
    "    transforms.ToTensor(), \n",
    "    transforms.Normalize([0.5], [0.5])\n",
    "])\n",
    "\n",
    "train_loader = torch.utils.data.DataLoader(\n",
    "    datasets.MNIST('.', train=True, download=True, transform=transform),\n",
    "    batch_size= batch_size, shuffle=True\n",
    ")"
   ]
  },
  {
   "cell_type": "code",
   "execution_count": 44,
   "id": "17b2b40f",
   "metadata": {},
   "outputs": [],
   "source": [
    "class Generator(nn.Module): \n",
    "    def __init__(self, z_dim): \n",
    "        super(Generator, self).__init__()\n",
    "        self.net = nn.Sequential(\n",
    "            nn.ConvTranspose2d(z_dim, 256, 7, 1, 0, bias = False),\n",
    "            nn.BatchNorm2d(256), # for smaller networks --> can be avoided for deeper nn\n",
    "            nn.ReLU(True), \n",
    "\n",
    "            nn.ConvTranspose2d(256, 128, 4, 2, 1, bias=False), \n",
    "            nn.BatchNorm2d(128), \n",
    "            nn.ReLU(True), \n",
    "\n",
    "            nn.ConvTranspose2d(128, 1, 4, 2, 1, bias = False), \n",
    "            nn.Tanh()\n",
    "        )\n",
    "\n",
    "    def forward(self, z): \n",
    "        return self.net(z)"
   ]
  },
  {
   "cell_type": "code",
   "execution_count": 45,
   "id": "e4a89d4e",
   "metadata": {},
   "outputs": [],
   "source": [
    "class Discriminator(nn.Module): \n",
    "    def __init__(self): \n",
    "        super(Discriminator, self).__init__()\n",
    "        self.net = nn.Sequential(\n",
    "            nn.Conv2d(1, 64, 4, 2, 1, bias = False),\n",
    "            nn.LeakyReLU(0.2, inplace=True), \n",
    "\n",
    "            nn.Conv2d(64, 128, 4, 2, 1, bias=False), \n",
    "            nn.BatchNorm2d(128), \n",
    "            nn.LeakyReLU(0.2, inplace=True), \n",
    "\n",
    "            nn.Flatten(), \n",
    "            nn.Linear(128*7*7, 1),\n",
    "            nn.Sigmoid()\n",
    "        )\n",
    "\n",
    "    def forward(self, img): \n",
    "        return self.net(img)"
   ]
  },
  {
   "cell_type": "code",
   "execution_count": 46,
   "id": "293e326f",
   "metadata": {},
   "outputs": [],
   "source": [
    "generator = Generator(z_dim).to(device)\n",
    "discriminator = Discriminator().to(device)\n",
    "\n",
    "criterion = nn.BCELoss()\n",
    "\n",
    "optimizer_G = optim.Adam(generator.parameters(), lr = lr, betas = (beta1, 0.999))\n",
    "optimizer_D = optim.Adam(discriminator.parameters(), lr = lr, betas = (beta1, 0.999))"
   ]
  },
  {
   "cell_type": "code",
   "execution_count": 47,
   "id": "95fa5124",
   "metadata": {},
   "outputs": [],
   "source": [
    "def generate_and_save_images(epoch): \n",
    "    generator.eval()\n",
    "    with torch.no_grad(): \n",
    "        z = torch.randn(64, z_dim, 1, 1).to(device)\n",
    "        fake_images = generator(z)\n",
    "        fake_images = fake_images*0.5+0.5 # denormalize to [0, 1]\n",
    "        save_image(fake_images, f\"generated_images/sample_epoch_{epoch}.png\", nrow=8)\n",
    "    generator.train()"
   ]
  },
  {
   "cell_type": "code",
   "execution_count": 48,
   "id": "bd32d1b2",
   "metadata": {},
   "outputs": [
    {
     "name": "stdout",
     "output_type": "stream",
     "text": [
      "[Epoch 1/1] [Batch 0/469]D Loss: 1.4335 | G Loss: 0.4320\n",
      "[Epoch 1/1] [Batch 200/469]D Loss: 0.0051 | G Loss: 5.9598\n",
      "[Epoch 1/1] [Batch 400/469]D Loss: 0.0368 | G Loss: 4.2993\n",
      "[Epoch 2/2] [Batch 0/469]D Loss: 0.0097 | G Loss: 5.2181\n",
      "[Epoch 2/2] [Batch 200/469]D Loss: 0.0268 | G Loss: 4.7559\n",
      "[Epoch 2/2] [Batch 400/469]D Loss: 0.0047 | G Loss: 6.2263\n",
      "[Epoch 3/3] [Batch 0/469]D Loss: 0.0035 | G Loss: 6.7329\n",
      "[Epoch 3/3] [Batch 200/469]D Loss: 0.0012 | G Loss: 7.3468\n",
      "[Epoch 3/3] [Batch 400/469]D Loss: 0.0017 | G Loss: 7.0271\n",
      "[Epoch 4/4] [Batch 0/469]D Loss: 0.0010 | G Loss: 7.2973\n",
      "[Epoch 4/4] [Batch 200/469]D Loss: 0.0006 | G Loss: 8.0824\n",
      "[Epoch 4/4] [Batch 400/469]D Loss: 1.3210 | G Loss: 0.6412\n",
      "[Epoch 5/5] [Batch 0/469]D Loss: 1.1025 | G Loss: 0.8150\n",
      "[Epoch 5/5] [Batch 200/469]D Loss: 1.1633 | G Loss: 0.8906\n",
      "[Epoch 5/5] [Batch 400/469]D Loss: 1.0645 | G Loss: 0.9206\n",
      "[Epoch 6/6] [Batch 0/469]D Loss: 1.0484 | G Loss: 1.0300\n",
      "[Epoch 6/6] [Batch 200/469]D Loss: 1.0064 | G Loss: 1.0703\n",
      "[Epoch 6/6] [Batch 400/469]D Loss: 1.0558 | G Loss: 0.9077\n",
      "[Epoch 7/7] [Batch 0/469]D Loss: 1.1069 | G Loss: 0.9455\n",
      "[Epoch 7/7] [Batch 200/469]D Loss: 1.1271 | G Loss: 0.6263\n",
      "[Epoch 7/7] [Batch 400/469]D Loss: 1.1278 | G Loss: 0.8318\n",
      "[Epoch 8/8] [Batch 0/469]D Loss: 1.0186 | G Loss: 1.0289\n",
      "[Epoch 8/8] [Batch 200/469]D Loss: 1.0597 | G Loss: 1.0483\n",
      "[Epoch 8/8] [Batch 400/469]D Loss: 1.1339 | G Loss: 1.0932\n",
      "[Epoch 9/9] [Batch 0/469]D Loss: 1.0639 | G Loss: 0.7428\n",
      "[Epoch 9/9] [Batch 200/469]D Loss: 1.1606 | G Loss: 0.9376\n",
      "[Epoch 9/9] [Batch 400/469]D Loss: 1.0860 | G Loss: 0.5769\n",
      "[Epoch 10/10] [Batch 0/469]D Loss: 1.1244 | G Loss: 0.6238\n",
      "[Epoch 10/10] [Batch 200/469]D Loss: 1.0720 | G Loss: 0.9292\n",
      "[Epoch 10/10] [Batch 400/469]D Loss: 1.0759 | G Loss: 1.1891\n"
     ]
    }
   ],
   "source": [
    "k = 3 # genrator updates per iterations\n",
    "p =1 # discriminator updates per iterations\n",
    "# train generator more than discriminator \n",
    "for epoch in range(1, epochs+1) : \n",
    "    for i, (real_imgs, _) in enumerate(train_loader) :\n",
    "        batch_size_curr = real_imgs.size(0)\n",
    "        real_imgs = real_imgs.to(device)\n",
    "\n",
    "        real = torch.ones(batch_size_curr, 1, device=device)\n",
    "        fake = torch.zeros(batch_size_curr, 1, device=device)\n",
    "\n",
    "        for _ in range(p) : \n",
    "            z = torch.randn(batch_size_curr, z_dim, 1, 1, device=device)\n",
    "            fake_imgs = generator(z)\n",
    "\n",
    "            real_validity = discriminator(real_imgs)\n",
    "            d_real_loss = criterion(real_validity, real)\n",
    "\n",
    "            fake_validity = discriminator(fake_imgs.detach())\n",
    "            d_fake_loss = criterion(fake_validity, fake)\n",
    "\n",
    "            d_loss = d_real_loss + d_fake_loss\n",
    "            optimizer_D.zero_grad()\n",
    "            d_loss.backward()\n",
    "            optimizer_D.step()\n",
    "        for _ in range(k) : \n",
    "            z = torch.randn(batch_size_curr, z_dim, 1, 1, device=device)\n",
    "            fake_imgs = generator(z)\n",
    "\n",
    "            validity = discriminator(fake_imgs)\n",
    "            g_loss = criterion(validity, real)\n",
    "\n",
    "            optimizer_G.zero_grad()\n",
    "            g_loss.backward()\n",
    "            optimizer_G.step()\n",
    "        \n",
    "        if i%200 == 0: \n",
    "            print(\n",
    "                f\"[Epoch {epoch}/{epoch}] [Batch {i}/{len(train_loader)}]\"\n",
    "                f\"D Loss: {d_loss.item():.4f} | G Loss: {g_loss.item():.4f}\"\n",
    "            )\n",
    "\n",
    "    generator.eval()\n",
    "    with torch.no_grad():\n",
    "        z = torch.randn(64, z_dim, 1, 1, device=device)\n",
    "        samples = generator(z)\n",
    "        samples = samples*0.5 + 0.5\n",
    "        save_image(samples, f\"generated_images/epochs_{epoch}.png\", nrow=8)\n",
    "    generator.train()"
   ]
  },
  {
   "cell_type": "code",
   "execution_count": null,
   "id": "4780839c",
   "metadata": {},
   "outputs": [],
   "source": []
  }
 ],
 "metadata": {
  "kernelspec": {
   "display_name": ".venv",
   "language": "python",
   "name": "python3"
  },
  "language_info": {
   "codemirror_mode": {
    "name": "ipython",
    "version": 3
   },
   "file_extension": ".py",
   "mimetype": "text/x-python",
   "name": "python",
   "nbconvert_exporter": "python",
   "pygments_lexer": "ipython3",
   "version": "3.12.0"
  }
 },
 "nbformat": 4,
 "nbformat_minor": 5
}
